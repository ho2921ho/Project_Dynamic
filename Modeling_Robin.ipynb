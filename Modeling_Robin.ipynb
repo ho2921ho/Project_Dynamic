{
  "nbformat": 4,
  "nbformat_minor": 0,
  "metadata": {
    "colab": {
      "name": "Modeling_Robin",
      "version": "0.3.2",
      "provenance": [],
      "collapsed_sections": [],
      "include_colab_link": true
    },
    "kernelspec": {
      "name": "python3",
      "display_name": "Python 3"
    },
    "accelerator": "GPU"
  },
  "cells": [
    {
      "cell_type": "markdown",
      "metadata": {
        "id": "view-in-github",
        "colab_type": "text"
      },
      "source": [
        "<a href=\"https://colab.research.google.com/github/hysophie/project_dynamic/blob/master/Modeling_Robin.ipynb\" target=\"_parent\"><img src=\"https://colab.research.google.com/assets/colab-badge.svg\" alt=\"Open In Colab\"/></a>"
      ]
    },
    {
      "cell_type": "code",
      "metadata": {
        "id": "9Z_NYFq0StVa",
        "colab_type": "code",
        "outputId": "2a8203b2-1b46-4fe7-9c9f-7bf1d0fc8a17",
        "colab": {
          "base_uri": "https://localhost:8080/",
          "height": 127
        }
      },
      "source": [
        "from google.colab import auth\n",
        "auth.authenticate_user()\n",
        "\n",
        "from google.colab import drive\n",
        "drive.mount('/content/gdrive')"
      ],
      "execution_count": 6,
      "outputs": [
        {
          "output_type": "stream",
          "text": [
            "Go to this URL in a browser: https://accounts.google.com/o/oauth2/auth?client_id=947318989803-6bn6qk8qdgf4n4g3pfee6491hc0brc4i.apps.googleusercontent.com&redirect_uri=urn%3Aietf%3Awg%3Aoauth%3A2.0%3Aoob&scope=email%20https%3A%2F%2Fwww.googleapis.com%2Fauth%2Fdocs.test%20https%3A%2F%2Fwww.googleapis.com%2Fauth%2Fdrive%20https%3A%2F%2Fwww.googleapis.com%2Fauth%2Fdrive.photos.readonly%20https%3A%2F%2Fwww.googleapis.com%2Fauth%2Fpeopleapi.readonly&response_type=code\n",
            "\n",
            "Enter your authorization code:\n",
            "··········\n",
            "Mounted at /content/gdrive\n"
          ],
          "name": "stdout"
        }
      ]
    },
    {
      "cell_type": "code",
      "metadata": {
        "id": "JX_hn-sYPTro",
        "colab_type": "code",
        "outputId": "d9ad94d9-67f3-4a9a-f260-9ac50893feff",
        "colab": {
          "base_uri": "https://localhost:8080/",
          "height": 215
        }
      },
      "source": [
        "pip install pygam"
      ],
      "execution_count": 3,
      "outputs": [
        {
          "output_type": "stream",
          "text": [
            "Collecting pygam\n",
            "\u001b[?25l  Downloading https://files.pythonhosted.org/packages/13/be/775033ef08a8945bec6ad7973b161ca909f852442e0d7cfb8d1a214de1ac/pygam-0.8.0-py2.py3-none-any.whl (1.8MB)\n",
            "\u001b[K     |████████████████████████████████| 1.8MB 2.9MB/s \n",
            "\u001b[?25hRequirement already satisfied: progressbar2 in /usr/local/lib/python3.6/dist-packages (from pygam) (3.38.0)\n",
            "Requirement already satisfied: scipy in /usr/local/lib/python3.6/dist-packages (from pygam) (1.3.0)\n",
            "Requirement already satisfied: future in /usr/local/lib/python3.6/dist-packages (from pygam) (0.16.0)\n",
            "Requirement already satisfied: numpy in /usr/local/lib/python3.6/dist-packages (from pygam) (1.16.4)\n",
            "Requirement already satisfied: six in /usr/local/lib/python3.6/dist-packages (from progressbar2->pygam) (1.12.0)\n",
            "Requirement already satisfied: python-utils>=2.3.0 in /usr/local/lib/python3.6/dist-packages (from progressbar2->pygam) (2.3.0)\n",
            "Installing collected packages: pygam\n",
            "Successfully installed pygam-0.8.0\n"
          ],
          "name": "stdout"
        }
      ]
    },
    {
      "cell_type": "code",
      "metadata": {
        "id": "B5n0SzMaSx_9",
        "colab_type": "code",
        "colab": {}
      },
      "source": [
        "import pickle\n",
        "import numpy as np\n",
        "import pandas as pd\n",
        "import tensorflow as tf\n",
        "import copy\n",
        "import time\n",
        "import matplotlib.pyplot as plt\n",
        "from sklearn.preprocessing import StandardScaler\n",
        "from sklearn.metrics import mean_squared_error\n",
        "from sklearn.model_selection import train_test_split\n",
        "from xgboost import XGBRegressor\n",
        "from sklearn.model_selection import GridSearchCV\n",
        "from sklearn.cross_decomposition import PLSRegression\n",
        "from sklearn.linear_model import Lasso\n",
        "from sklearn.linear_model import LinearRegression\n",
        "from pygam.pygam import LinearGAM, s, f, GAM"
      ],
      "execution_count": 0,
      "outputs": []
    },
    {
      "cell_type": "code",
      "metadata": {
        "id": "JyVbHE9wS2K2",
        "colab_type": "code",
        "colab": {}
      },
      "source": [
        "with open('/content/gdrive/My Drive/DynamicPricing_Final.pickle', 'rb') as f:\n",
        "   data = pickle.load(f)"
      ],
      "execution_count": 0,
      "outputs": []
    },
    {
      "cell_type": "markdown",
      "metadata": {
        "id": "BOKyg-DoXmdW",
        "colab_type": "text"
      },
      "source": [
        "1. DNN MODEL"
      ]
    },
    {
      "cell_type": "code",
      "metadata": {
        "id": "RMjKjlKWTM-L",
        "colab_type": "code",
        "colab": {}
      },
      "source": [
        "data = data.drop(data.columns[21:-5], axis=1)\n",
        "data = pd.concat([pd.DataFrame(StandardScaler().fit_transform(data.iloc[:,:-1]), columns=data.columns[:-1]),\n",
        "                 pd.DataFrame(data['y'].values, columns=['y'])],axis=1)"
      ],
      "execution_count": 0,
      "outputs": []
    },
    {
      "cell_type": "code",
      "metadata": {
        "id": "bXQ5gTHsVZIZ",
        "colab_type": "code",
        "outputId": "e5c85167-aba7-4294-d705-383288997289",
        "colab": {
          "base_uri": "https://localhost:8080/",
          "height": 71
        }
      },
      "source": [
        "X_vari = data.iloc[:,:-1].as_matrix()\n",
        "y_vari = tf.one_hot(data.iloc[:,-1].astype('int64'), depth=2)\n",
        "\n",
        "sess = tf.Session()\n",
        "sess.run"
      ],
      "execution_count": 9,
      "outputs": [
        {
          "output_type": "stream",
          "text": [
            "/usr/local/lib/python3.6/dist-packages/ipykernel_launcher.py:1: FutureWarning: Method .as_matrix will be removed in a future version. Use .values instead.\n",
            "  \"\"\"Entry point for launching an IPython kernel.\n"
          ],
          "name": "stderr"
        },
        {
          "output_type": "execute_result",
          "data": {
            "text/plain": [
              "<bound method BaseSession.run of <tensorflow.python.client.session.Session object at 0x7f66ac8aca20>>"
            ]
          },
          "metadata": {
            "tags": []
          },
          "execution_count": 9
        }
      ]
    },
    {
      "cell_type": "code",
      "metadata": {
        "id": "YIQTqK7MVxc9",
        "colab_type": "code",
        "colab": {}
      },
      "source": [
        "X_train, X_test, y_train, y_test = train_test_split(X_vari, y_vari.eval(session=sess), test_size=.3, random_state=42)"
      ],
      "execution_count": 0,
      "outputs": []
    },
    {
      "cell_type": "code",
      "metadata": {
        "id": "kaYT-Hr0V-dp",
        "colab_type": "code",
        "outputId": "7d209bc4-66c4-45ad-8b7b-83e756e207f8",
        "colab": {
          "base_uri": "https://localhost:8080/",
          "height": 230
        }
      },
      "source": [
        "start = time.time()\n",
        "\n",
        "training_epochs = 10\n",
        "batch_size = 300\n",
        "\n",
        "ncol= X_vari.shape[1]\n",
        "numofy = 2\n",
        "\n",
        "X = tf.placeholder(tf.float32, [None, ncol])\n",
        "y = tf.placeholder(tf.float32, [None, numofy])\n",
        "keep_prob = tf.placeholder(tf.float32)\n",
        "\n",
        "W1 = tf.Variable(tf.random_normal([ncol, 15]))\n",
        "b1 = tf.Variable(tf.random_normal([15]))\n",
        "L1 = tf.nn.relu(tf.matmul(X, W1) + b1)\n",
        "L1 = tf.nn.dropout(L1, keep_prob = keep_prob)\n",
        "\n",
        "W2 = tf.Variable(tf.random_normal([15, 7]))\n",
        "b2 = tf.Variable(tf.random_normal([7]))\n",
        "L2 = tf.nn.relu(tf.matmul(L1, W2) + b2)\n",
        "L2 = tf.nn.dropout(L2, keep_prob = keep_prob)\n",
        "\n",
        "W3 = tf.Variable(tf.random_normal([7, 2]))\n",
        "b3 = tf.Variable(tf.random_normal([2]))\n",
        "\n",
        "hypothesis = tf.sigmoid(tf.matmul(L2, W3) + b3)\n",
        "\n",
        "cost = -tf.reduce_mean(y*tf.log(hypothesis+1e-4) + (1-y)*tf.log(1-hypothesis+1e-4))\n",
        "optimizer = tf.train.AdamOptimizer(learning_rate=0.1).minimize(cost)\n",
        "\n",
        "sess = tf.Session()\n",
        "sess.run(tf.global_variables_initializer())\n",
        "\n",
        "for epoch in range(training_epochs):\n",
        "    avg_cost = 0\n",
        "    total_batch = int(len(X_train) / batch_size)\n",
        "\n",
        "    for i in range(total_batch):\n",
        "        batch_xs, batch_ys = X_train[batch_size*i:batch_size*(i+1)], y_train[batch_size*i:batch_size*(i+1)]\n",
        "        feed_dict = {X: batch_xs, y: batch_ys, keep_prob : .7}\n",
        "        c, _ = sess.run([cost, optimizer], feed_dict=feed_dict)\n",
        "        avg_cost += c / total_batch\n",
        "\n",
        "    print(\"Epoch:\", \"%04d\" % (epoch +1), 'cost =', '{:.9f}'.format(avg_cost))\n",
        "\n",
        "correct_prediction = tf.equal(tf.argmax(hypothesis, axis=1), tf.argmax(y,axis=1))\n",
        "accuracy = tf.reduce_mean(tf.cast(correct_prediction, tf.float32))\n",
        "print('Accuracy:', sess.run(accuracy, feed_dict={X: X_test, y: y_test, keep_prob: 1}))\n",
        "\n",
        "print(\"time :\", time.time() - start)"
      ],
      "execution_count": 0,
      "outputs": [
        {
          "output_type": "stream",
          "text": [
            "Epoch: 0001 cost = 0.597214415\n",
            "Epoch: 0002 cost = 0.594495484\n",
            "Epoch: 0003 cost = 0.596664515\n",
            "Epoch: 0004 cost = 0.596411388\n",
            "Epoch: 0005 cost = 0.595958434\n",
            "Epoch: 0006 cost = 0.597607554\n",
            "Epoch: 0007 cost = 0.596435989\n",
            "Epoch: 0008 cost = 0.597470662\n",
            "Epoch: 0009 cost = 0.596948889\n",
            "Epoch: 0010 cost = 0.596946597\n",
            "Accuracy: 0.7321788\n",
            "time : 68.48209977149963\n"
          ],
          "name": "stdout"
        }
      ]
    },
    {
      "cell_type": "markdown",
      "metadata": {
        "id": "_sEeKi34H58B",
        "colab_type": "text"
      },
      "source": [
        "# **Regression Approach**"
      ]
    },
    {
      "cell_type": "markdown",
      "metadata": {
        "id": "-QlXk9kUHzE4",
        "colab_type": "text"
      },
      "source": [
        "2. OLS Regression Model"
      ]
    },
    {
      "cell_type": "code",
      "metadata": {
        "id": "RE7TCSlsIzig",
        "colab_type": "code",
        "colab": {}
      },
      "source": [
        "with open('/content/gdrive/My Drive/Chan.pickle', 'rb') as f:\n",
        "   data_chan = pickle.load(f)"
      ],
      "execution_count": 0,
      "outputs": []
    },
    {
      "cell_type": "code",
      "metadata": {
        "colab_type": "code",
        "id": "381c-S56F7wY",
        "colab": {}
      },
      "source": [
        "X_linear = data_chan.drop(data_chan.columns[21:-5], axis=1)\n",
        "X_linear = X_linear.iloc[:,:-1]\n",
        "y_linear = pd.DataFrame(data_chan.iloc[:,-1])\n",
        "\n",
        "X_lin_tr, X_lin_te, y_lin_tr, y_lin_te = train_test_split(X_linear, y_linear, test_size=.3, random_state=42)\n",
        "\n",
        "linear = LinearRegression().fit(X_lin_tr, y_lin_tr)"
      ],
      "execution_count": 0,
      "outputs": []
    },
    {
      "cell_type": "code",
      "metadata": {
        "id": "-AkJOMvEEEMH",
        "colab_type": "code",
        "colab": {
          "base_uri": "https://localhost:8080/",
          "height": 35
        },
        "outputId": "335a03f0-26ec-4891-edc2-1d95d215e764"
      },
      "source": [
        "linear.score(X_lin_te, y_lin_te)"
      ],
      "execution_count": 213,
      "outputs": [
        {
          "output_type": "execute_result",
          "data": {
            "text/plain": [
              "0.09442613251049126"
            ]
          },
          "metadata": {
            "tags": []
          },
          "execution_count": 213
        }
      ]
    },
    {
      "cell_type": "code",
      "metadata": {
        "id": "oYTVidqnELog",
        "colab_type": "code",
        "colab": {
          "base_uri": "https://localhost:8080/",
          "height": 35
        },
        "outputId": "6a4f327f-271a-420b-b6ab-5eef2e05999d"
      },
      "source": [
        "mean_squared_error(linear.predict(X_lin_te), y_lin_te)"
      ],
      "execution_count": 214,
      "outputs": [
        {
          "output_type": "execute_result",
          "data": {
            "text/plain": [
              "389.2977829182152"
            ]
          },
          "metadata": {
            "tags": []
          },
          "execution_count": 214
        }
      ]
    },
    {
      "cell_type": "markdown",
      "metadata": {
        "id": "sKteqq2HiE0u",
        "colab_type": "text"
      },
      "source": [
        "3. PLS Regression Model"
      ]
    },
    {
      "cell_type": "code",
      "metadata": {
        "id": "cCXJbx8oL6zm",
        "colab_type": "code",
        "colab": {}
      },
      "source": [
        "data_chan = data_chan.drop(data_chan.columns[21:-5], axis=1)\n",
        "data_chan = pd.concat([pd.DataFrame(StandardScaler().fit_transform(data_chan.iloc[:,:-1]), columns=data_chan.columns[:-1]),\n",
        "                 pd.DataFrame(data_chan['y'].values, columns=['y'])],axis=1)"
      ],
      "execution_count": 0,
      "outputs": []
    },
    {
      "cell_type": "code",
      "metadata": {
        "id": "Ra5isOagOwtK",
        "colab_type": "code",
        "colab": {}
      },
      "source": [
        "X_vari2 = data_chan.iloc[:,:-1]\n",
        "y_vari2 = pd.DataFrame(data_chan.iloc[:,-1])"
      ],
      "execution_count": 0,
      "outputs": []
    },
    {
      "cell_type": "code",
      "metadata": {
        "id": "Ekqm1G9yOssI",
        "colab_type": "code",
        "colab": {}
      },
      "source": [
        "X_train2, X_test2, y_train2, y_test2 = train_test_split(X_vari2, y_vari2, test_size=.3, random_state=42)"
      ],
      "execution_count": 0,
      "outputs": []
    },
    {
      "cell_type": "code",
      "metadata": {
        "id": "DJtlakYTkvvZ",
        "colab_type": "code",
        "outputId": "7fbf1f94-7149-4416-c3db-5ddb6b2c856f",
        "colab": {
          "base_uri": "https://localhost:8080/",
          "height": 143
        }
      },
      "source": [
        "num_of_axis = {'n_components': [1,2,3,4,5,6,7]}\n",
        "\n",
        "pls_fitting = GridSearchCV(PLSRegression(scale=False), num_of_axis, cv=5)\n",
        "pls_fitting.fit(X_train2, y_train2)"
      ],
      "execution_count": 19,
      "outputs": [
        {
          "output_type": "execute_result",
          "data": {
            "text/plain": [
              "GridSearchCV(cv=5, error_score='raise-deprecating',\n",
              "             estimator=PLSRegression(copy=True, max_iter=500, n_components=2,\n",
              "                                     scale=False, tol=1e-06),\n",
              "             iid='warn', n_jobs=None,\n",
              "             param_grid={'n_components': [1, 2, 3, 4, 5, 6, 7]},\n",
              "             pre_dispatch='2*n_jobs', refit=True, return_train_score=False,\n",
              "             scoring=None, verbose=0)"
            ]
          },
          "metadata": {
            "tags": []
          },
          "execution_count": 19
        }
      ]
    },
    {
      "cell_type": "code",
      "metadata": {
        "id": "a5lr7pVvJKUh",
        "colab_type": "code",
        "colab": {
          "base_uri": "https://localhost:8080/",
          "height": 35
        },
        "outputId": "98f3416e-b52f-4285-cbdc-44ff1a6a5cb2"
      },
      "source": [
        "pls_fitting.score(X_test2, y_test2)"
      ],
      "execution_count": 28,
      "outputs": [
        {
          "output_type": "execute_result",
          "data": {
            "text/plain": [
              "0.09437537299500087"
            ]
          },
          "metadata": {
            "tags": []
          },
          "execution_count": 28
        }
      ]
    },
    {
      "cell_type": "code",
      "metadata": {
        "id": "EnfAs3wsJkfg",
        "colab_type": "code",
        "colab": {
          "base_uri": "https://localhost:8080/",
          "height": 35
        },
        "outputId": "02c2ed16-4739-4a2d-9e8e-acb1ff6a013a"
      },
      "source": [
        "mean_squared_error(pls_fitting.predict(X_test2), y_test2)"
      ],
      "execution_count": 29,
      "outputs": [
        {
          "output_type": "execute_result",
          "data": {
            "text/plain": [
              "389.3196039618118"
            ]
          },
          "metadata": {
            "tags": []
          },
          "execution_count": 29
        }
      ]
    },
    {
      "cell_type": "markdown",
      "metadata": {
        "id": "dPMAhfZ9iJrj",
        "colab_type": "text"
      },
      "source": [
        "4. Lasso Regression Model"
      ]
    },
    {
      "cell_type": "code",
      "metadata": {
        "id": "k8wr6FW-gDrV",
        "colab_type": "code",
        "outputId": "ce63523d-8583-4d45-a602-d308d8e2203f",
        "colab": {
          "base_uri": "https://localhost:8080/",
          "height": 179
        }
      },
      "source": [
        "Lasso_param = {'alpha': [0.01, 0.1, 1, 10, 100]}\n",
        "Lasso_fitting = GridSearchCV(Lasso(random_state=42, fit_intercept=True), Lasso_param, cv=5)\n",
        "Lasso_fitting.fit(X_train2, y_train2)"
      ],
      "execution_count": 24,
      "outputs": [
        {
          "output_type": "execute_result",
          "data": {
            "text/plain": [
              "GridSearchCV(cv=5, error_score='raise-deprecating',\n",
              "             estimator=Lasso(alpha=1.0, copy_X=True, fit_intercept=True,\n",
              "                             max_iter=1000, normalize=False, positive=False,\n",
              "                             precompute=False, random_state=42,\n",
              "                             selection='cyclic', tol=0.0001, warm_start=False),\n",
              "             iid='warn', n_jobs=None,\n",
              "             param_grid={'alpha': [0.01, 0.1, 1, 10, 100]},\n",
              "             pre_dispatch='2*n_jobs', refit=True, return_train_score=False,\n",
              "             scoring=None, verbose=0)"
            ]
          },
          "metadata": {
            "tags": []
          },
          "execution_count": 24
        }
      ]
    },
    {
      "cell_type": "code",
      "metadata": {
        "id": "CKK-CMGbgDyg",
        "colab_type": "code",
        "outputId": "1cc67753-ad80-4f91-a626-840e8155da66",
        "colab": {
          "base_uri": "https://localhost:8080/",
          "height": 35
        }
      },
      "source": [
        "Lasso_fitting.score(X_test2, y_test2)"
      ],
      "execution_count": 25,
      "outputs": [
        {
          "output_type": "execute_result",
          "data": {
            "text/plain": [
              "0.0944157389696133"
            ]
          },
          "metadata": {
            "tags": []
          },
          "execution_count": 25
        }
      ]
    },
    {
      "cell_type": "code",
      "metadata": {
        "id": "XmV64FTkAft2",
        "colab_type": "code",
        "outputId": "ea67434a-9772-408b-ea07-73d8098020b1",
        "colab": {
          "base_uri": "https://localhost:8080/",
          "height": 35
        }
      },
      "source": [
        "mean_squared_error(Lasso_fitting.predict(X_test2), y_test2)"
      ],
      "execution_count": 26,
      "outputs": [
        {
          "output_type": "execute_result",
          "data": {
            "text/plain": [
              "389.3022510047686"
            ]
          },
          "metadata": {
            "tags": []
          },
          "execution_count": 26
        }
      ]
    },
    {
      "cell_type": "markdown",
      "metadata": {
        "id": "D-eMDhjXRjz_",
        "colab_type": "text"
      },
      "source": [
        "5. Generative Additive Model (Non-linear)"
      ]
    },
    {
      "cell_type": "code",
      "metadata": {
        "id": "Lss1Rln2Z_Pk",
        "colab_type": "code",
        "outputId": "83778abd-5f07-459f-8441-50bc79db2708",
        "colab": {
          "base_uri": "https://localhost:8080/",
          "height": 143
        }
      },
      "source": [
        "#GAM Model에 쓰려고, 단순히 feature importance 참고하려는 의도\n",
        "\n",
        "Xgb_fitting = XGBRegressor(random_state=42, tree_method='gpu_hist')\n",
        "Xgb_fitting.fit(X_train2, y_train2)\n",
        "Xgb_fitting.feature_importances_  #3,8,16,17,21"
      ],
      "execution_count": 30,
      "outputs": [
        {
          "output_type": "stream",
          "text": [
            "[14:20:36] WARNING: /workspace/src/objective/regression_obj.cu:152: reg:linear is now deprecated in favor of reg:squarederror.\n"
          ],
          "name": "stdout"
        },
        {
          "output_type": "execute_result",
          "data": {
            "text/plain": [
              "array([0.04376948, 0.00787022, 0.02863281, 0.1699906 , 0.        ,\n",
              "       0.00293444, 0.00147636, 0.00189212, 0.1985173 , 0.01133583,\n",
              "       0.00368999, 0.00104403, 0.00526056, 0.        , 0.        ,\n",
              "       0.        , 0.12838584, 0.11567714, 0.03977399, 0.02760838,\n",
              "       0.00172213, 0.20110919, 0.00216963, 0.00147295, 0.00566706],\n",
              "      dtype=float32)"
            ]
          },
          "metadata": {
            "tags": []
          },
          "execution_count": 30
        }
      ]
    },
    {
      "cell_type": "code",
      "metadata": {
        "id": "sX4dKQSsCj9N",
        "colab_type": "code",
        "colab": {}
      },
      "source": [
        "data_gam = data_chan.drop(data_chan.columns[21:-5], axis=1)\n",
        "X_gam = data_gam.iloc[:,[3,8,16,17,21]]\n",
        "y_gam = pd.DataFrame(data_gam.iloc[:,-1])"
      ],
      "execution_count": 0,
      "outputs": []
    },
    {
      "cell_type": "code",
      "metadata": {
        "id": "Bsue4o0rEpF5",
        "colab_type": "code",
        "colab": {}
      },
      "source": [
        "#지속적인 Colab 메모리 에러로, 데이터를 불가피하게 반으로 줄였음 (메모리 한계)\n",
        "X_gam_half, X_another, y_gam_half, y_another = train_test_split(X_gam, y_gam, test_size=.3, random_state=42)"
      ],
      "execution_count": 0,
      "outputs": []
    },
    {
      "cell_type": "code",
      "metadata": {
        "id": "a6OreCHiRiSb",
        "colab_type": "code",
        "outputId": "92c517d7-f119-42e7-c9cb-7ec36c768335",
        "colab": {
          "base_uri": "https://localhost:8080/",
          "height": 71
        }
      },
      "source": [
        "#0, 4 index에 대해선 factor처리 하고 싶었으나, 버전이 업데이트 되면서 dtype에 대한 paramter가 사라진 것으로 보임\n",
        "#해당 변수의 최소 최대를 벗어나는, 다른 변수의 값에 대해서는 자꾸 오류를 띄움 (분명 해결책이 있을텐데, 못 찾음..)\n",
        "#range 오류를 해결할 수가 없어서 0, 4 index에 대해서도 연속형으로 생각해서 spline 모델을 사용\n",
        "\n",
        "gam_model = LinearGAM(s(0) + s(1) + s(2) + s(3)+ s(4))\n",
        "gam_model.gridsearch(X_gam_half.as_matrix(),y_gam_half.as_matrix())"
      ],
      "execution_count": 0,
      "outputs": [
        {
          "output_type": "stream",
          "text": [
            "/usr/local/lib/python3.6/dist-packages/ipykernel_launcher.py:3: FutureWarning: Method .as_matrix will be removed in a future version. Use .values instead.\n",
            "  This is separate from the ipykernel package so we can avoid doing imports until\n",
            "\r                                                                               \r\rN/A% (0 of 11) |                         | Elapsed Time: 0:00:00 ETA:  --:--:--"
          ],
          "name": "stderr"
        }
      ]
    },
    {
      "cell_type": "code",
      "metadata": {
        "id": "SCAEX4PpUTUz",
        "colab_type": "code",
        "outputId": "aaf76671-22fe-4b75-a6a9-f7f83347adea",
        "colab": {
          "base_uri": "https://localhost:8080/",
          "height": 647
        }
      },
      "source": [
        "gam_model.summary()"
      ],
      "execution_count": 0,
      "outputs": [
        {
          "output_type": "stream",
          "text": [
            "LinearGAM                                                                                                 \n",
            "=============================================== ==========================================================\n",
            "Distribution:                        NormalDist Effective DoF:                                     51.2342\n",
            "Link Function:                     IdentityLink Log Likelihood:                              -8720290.1197\n",
            "Number of Samples:                      1269297 AIC:                                         17440684.7076\n",
            "                                                AICc:                                         17440684.712\n",
            "                                                GCV:                                              383.7551\n",
            "                                                Scale:                                            383.7272\n",
            "                                                Pseudo R-Squared:                                    0.102\n",
            "==========================================================================================================\n",
            "Feature Function                  Lambda               Rank         EDoF         P > x        Sig. Code   \n",
            "================================= ==================== ============ ============ ============ ============\n",
            "s(0)                              [0.0631]             20           6.0          1.11e-16     ***         \n",
            "s(1)                              [0.0631]             20           12.2         1.11e-16     ***         \n",
            "s(2)                              [0.0631]             20           15.1         1.11e-16     ***         \n",
            "s(3)                              [0.0631]             20           17.0         1.11e-16     ***         \n",
            "s(4)                              [0.0631]             20           1.0          1.11e-16     ***         \n",
            "intercept                                              1            0.0          3.11e-01                 \n",
            "==========================================================================================================\n",
            "Significance codes:  0 '***' 0.001 '**' 0.01 '*' 0.05 '.' 0.1 ' ' 1\n",
            "\n",
            "WARNING: Fitting splines and a linear function to a feature introduces a model identifiability problem\n",
            "         which can cause p-values to appear significant when they are not.\n",
            "\n",
            "WARNING: p-values calculated in this manner behave correctly for un-penalized models or models with\n",
            "         known smoothing parameters, but when smoothing parameters have been estimated, the p-values\n",
            "         are typically lower than they should be, meaning that the tests reject the null too readily.\n"
          ],
          "name": "stdout"
        },
        {
          "output_type": "stream",
          "text": [
            "/usr/local/lib/python3.6/dist-packages/ipykernel_launcher.py:1: UserWarning: KNOWN BUG: p-values computed in this summary are likely much smaller than they should be. \n",
            " \n",
            "Please do not make inferences based on these values! \n",
            "\n",
            "Collaborate on a solution, and stay up to date at: \n",
            "github.com/dswah/pyGAM/issues/163 \n",
            "\n",
            "  \"\"\"Entry point for launching an IPython kernel.\n"
          ],
          "name": "stderr"
        }
      ]
    },
    {
      "cell_type": "code",
      "metadata": {
        "id": "JCsHfqinAxnZ",
        "colab_type": "code",
        "outputId": "b93506f3-8dd0-44a6-a9d0-d4986d674a12",
        "colab": {
          "base_uri": "https://localhost:8080/",
          "height": 35
        }
      },
      "source": [
        "mean_squared_error(gam_model.predict(X_another), y_another)"
      ],
      "execution_count": 0,
      "outputs": [
        {
          "output_type": "execute_result",
          "data": {
            "text/plain": [
              "384.5970435808062"
            ]
          },
          "metadata": {
            "tags": []
          },
          "execution_count": 170
        }
      ]
    },
    {
      "cell_type": "code",
      "metadata": {
        "id": "-auzXK91o9cN",
        "colab_type": "code",
        "outputId": "540c9c98-39be-4e20-9aa8-3cef06afced0",
        "colab": {
          "base_uri": "https://localhost:8080/",
          "height": 299
        }
      },
      "source": [
        "plt.figure(figsize=(30,8))\n",
        "fig, axs = plt.subplots(1,5)\n",
        "plt.subplots_adjust(right = 2, wspace = .3)\n",
        "\n",
        "titles = X_gam.columns[0:5]\n",
        "for i, ax in enumerate(axs):\n",
        "    gam_grid = gam_model.generate_X_grid(term=i)\n",
        "    ax.plot(gam_grid[:, i], gam_model.partial_dependence(term=i, X=gam_grid))\n",
        "    ax.plot(gam_grid[:, i], gam_model.partial_dependence(term=i, X=gam_grid, width=.95)[1], c='r', ls='--')\n",
        "    \n",
        "    \n",
        "    ax.set_title(titles[i]);"
      ],
      "execution_count": 0,
      "outputs": [
        {
          "output_type": "display_data",
          "data": {
            "text/plain": [
              "<Figure size 2160x576 with 0 Axes>"
            ]
          },
          "metadata": {
            "tags": []
          }
        },
        {
          "output_type": "display_data",
          "data": {
            "image/png": "[encoded data removed]",
            "text/plain": [
              "<Figure size 432x288 with 5 Axes>"
            ]
          },
          "metadata": {
            "tags": []
          }
        }
      ]
    },
    {
      "cell_type": "code",
      "metadata": {
        "id": "ly4aR-yt7ddt",
        "colab_type": "code",
        "outputId": "d7939d4f-17f4-49e1-94a3-71ae75417c23",
        "colab": {
          "base_uri": "https://localhost:8080/",
          "height": 299
        }
      },
      "source": [
        "gam_model_f0 = LinearGAM(f(0))\n",
        "gam_model_f0.gridsearch(X_gam_half.as_matrix(),y_gam_half.as_matrix())a\n",
        "\n",
        "gam_grid2 = gam_model_f0.generate_X_grid(term=0)    \n",
        "plt.plot(gam_grid[:,0], gam_model_f0.partial_dependence(term=0, X=gam_grid))\n",
        "plt.plot(gam_grid[:,0], gam_model_f0.partial_dependence(term=0, X=gam_grid, width=.95)[1], c='r', ls='--')\n",
        "plt.title(X_gam.columns[0])"
      ],
      "execution_count": 0,
      "outputs": [
        {
          "output_type": "execute_result",
          "data": {
            "text/plain": [
              "Text(0.5, 1.0, 'MONTH')"
            ]
          },
          "metadata": {
            "tags": []
          },
          "execution_count": 165
        },
        {
          "output_type": "display_data",
          "data": {
            "image/png": "[encoded data removed]",
            "text/plain": [
              "<Figure size 432x288 with 1 Axes>"
            ]
          },
          "metadata": {
            "tags": []
          }
        }
      ]
    },
    {
      "cell_type": "markdown",
      "metadata": {
        "id": "SoK872_vkv5B",
        "colab_type": "text"
      },
      "source": [
        "Simpler한 모델을 통해 확인해보고자."
      ]
    },
    {
      "cell_type": "code",
      "metadata": {
        "id": "rEksLxS7YKSL",
        "colab_type": "code",
        "colab": {
          "base_uri": "https://localhost:8080/",
          "height": 143
        },
        "outputId": "734c8302-7da8-434d-ea2b-47c5ef5bf344"
      },
      "source": [
        "gam_model2 = LinearGAM(s(0, n_splines=5) + s(1, n_splines=5) + s(2, n_splines=5) + s(3, n_splines=5)+ s(4, n_splines=5))\n",
        "gam_model2.gridsearch(X_gam_half.as_matrix(),y_gam_half.as_matrix())"
      ],
      "execution_count": 42,
      "outputs": [
        {
          "output_type": "stream",
          "text": [
            "/usr/local/lib/python3.6/dist-packages/ipykernel_launcher.py:3: FutureWarning: Method .as_matrix will be removed in a future version. Use .values instead.\n",
            "  This is separate from the ipykernel package so we can avoid doing imports until\n",
            "100% (11 of 11) |########################| Elapsed Time: 0:03:31 Time:  0:03:31\n"
          ],
          "name": "stderr"
        },
        {
          "output_type": "execute_result",
          "data": {
            "text/plain": [
              "LinearGAM(callbacks=[Deviance(), Diffs()], fit_intercept=True, \n",
              "   max_iter=100, scale=None, \n",
              "   terms=s(0) + s(1) + s(2) + s(3) + s(4) + intercept, tol=0.0001, \n",
              "   verbose=False)"
            ]
          },
          "metadata": {
            "tags": []
          },
          "execution_count": 42
        }
      ]
    },
    {
      "cell_type": "code",
      "metadata": {
        "id": "6AR7D3epYKbb",
        "colab_type": "code",
        "colab": {
          "base_uri": "https://localhost:8080/",
          "height": 299
        },
        "outputId": "fd6509f5-7abd-4002-a13f-44bc1b18591c"
      },
      "source": [
        "plt.figure(figsize=(30,8))\n",
        "fig, axs = plt.subplots(1,5)\n",
        "plt.subplots_adjust(right = 2, wspace = .3)\n",
        "\n",
        "titles = X_gam.columns[0:5]\n",
        "for i, ax in enumerate(axs):\n",
        "    gam_grid = gam_model2.generate_X_grid(term=i)\n",
        "    ax.plot(gam_grid[:, i], gam_model2.partial_dependence(term=i, X=gam_grid))\n",
        "    ax.plot(gam_grid[:, i], gam_model2.partial_dependence(term=i, X=gam_grid, width=.95)[1], c='r', ls='--')\n",
        "    \n",
        "    \n",
        "    ax.set_title(titles[i]);"
      ],
      "execution_count": 44,
      "outputs": [
        {
          "output_type": "display_data",
          "data": {
            "text/plain": [
              "<Figure size 2160x576 with 0 Axes>"
            ]
          },
          "metadata": {
            "tags": []
          }
        },
        {
          "output_type": "display_data",
          "data": {
            "image/png": "[encoded data removed]",
            "text/plain": [
              "<Figure size 432x288 with 5 Axes>"
            ]
          },
          "metadata": {
            "tags": []
          }
        }
      ]
    },
    {
      "cell_type": "code",
      "metadata": {
        "id": "28SBljgYb03S",
        "colab_type": "code",
        "colab": {
          "base_uri": "https://localhost:8080/",
          "height": 647
        },
        "outputId": "f6f35681-12c9-448d-9f7f-415104e0bbfe"
      },
      "source": [
        "gam_model2.summary()"
      ],
      "execution_count": 46,
      "outputs": [
        {
          "output_type": "stream",
          "text": [
            "LinearGAM                                                                                                 \n",
            "=============================================== ==========================================================\n",
            "Distribution:                        NormalDist Effective DoF:                                      17.793\n",
            "Link Function:                     IdentityLink Log Likelihood:                              -8730002.6642\n",
            "Number of Samples:                      1269297 AIC:                                         17460042.9144\n",
            "                                                AICc:                                         17460042.915\n",
            "                                                GCV:                                              386.6883\n",
            "                                                Scale:                                            386.6785\n",
            "                                                Pseudo R-Squared:                                   0.0951\n",
            "==========================================================================================================\n",
            "Feature Function                  Lambda               Rank         EDoF         P > x        Sig. Code   \n",
            "================================= ==================== ============ ============ ============ ============\n",
            "s(0)                              [0.001]              5            5.0          1.11e-16     ***         \n",
            "s(1)                              [0.001]              5            3.9          1.11e-16     ***         \n",
            "s(2)                              [0.001]              5            3.9          1.11e-16     ***         \n",
            "s(3)                              [0.001]              5            4.0          1.11e-16     ***         \n",
            "s(4)                              [0.001]              5            1.0          1.11e-16     ***         \n",
            "intercept                                              1            0.0          1.11e-16     ***         \n",
            "==========================================================================================================\n",
            "Significance codes:  0 '***' 0.001 '**' 0.01 '*' 0.05 '.' 0.1 ' ' 1\n",
            "\n",
            "WARNING: Fitting splines and a linear function to a feature introduces a model identifiability problem\n",
            "         which can cause p-values to appear significant when they are not.\n",
            "\n",
            "WARNING: p-values calculated in this manner behave correctly for un-penalized models or models with\n",
            "         known smoothing parameters, but when smoothing parameters have been estimated, the p-values\n",
            "         are typically lower than they should be, meaning that the tests reject the null too readily.\n"
          ],
          "name": "stdout"
        },
        {
          "output_type": "stream",
          "text": [
            "/usr/local/lib/python3.6/dist-packages/ipykernel_launcher.py:1: UserWarning: KNOWN BUG: p-values computed in this summary are likely much smaller than they should be. \n",
            " \n",
            "Please do not make inferences based on these values! \n",
            "\n",
            "Collaborate on a solution, and stay up to date at: \n",
            "github.com/dswah/pyGAM/issues/163 \n",
            "\n",
            "  \"\"\"Entry point for launching an IPython kernel.\n"
          ],
          "name": "stderr"
        }
      ]
    },
    {
      "cell_type": "markdown",
      "metadata": {
        "id": "lJ8I6IN4oGLa",
        "colab_type": "text"
      },
      "source": [
        "텐서보드 이용 시도... but 실패..."
      ]
    },
    {
      "cell_type": "code",
      "metadata": {
        "id": "WAWPkChfQqE1",
        "colab_type": "code",
        "colab": {}
      },
      "source": [
        "#텐서보드 이용 실패...\n",
        "#model \n",
        "\n",
        "with tf.name_scope('layer1') as scope:\n",
        "  W1 = tf.Variable(tf.random_normal([ncol, 15]))\n",
        "  b1 = tf.Variable(tf.random_normal([15]))\n",
        "  L1 = tf.nn.relu(tf.matmul(X, W1) + b1)\n",
        "  L1 = tf.nn.dropout(L1, keep_prob = keep_prob)\n",
        "  \n",
        "  tf.summary.histogram('X', X)\n",
        "  tf.summary.histogram('weights1', W1)\n",
        "  tf.summary.histogram('bias1', b1)\n",
        "  tf.summary.histogram('layer1', L1)\n",
        "  \n",
        "with tf.name_scope('layer2') as scope:\n",
        "  W2 = tf.Variable(tf.random_normal([15, 7]))\n",
        "  b2 = tf.Variable(tf.random_normal([7]))\n",
        "  L2 = tf.nn.relu(tf.matmul(L1, W2) + b2)\n",
        "  L2 = tf.nn.dropout(L2, keep_prob = keep_prob)\n",
        "\n",
        "  tf.summary.histogram('L1', L1)\n",
        "  tf.summary.histogram('weights2', W2)\n",
        "  tf.summary.histogram('bias2', b2)\n",
        "  tf.summary.histogram('layer2', L2)\n",
        "  \n",
        "with tf.name_scope('layer2') as scope:\n",
        "  \n",
        "  W3 = tf.Variable(tf.random_normal([7, 2]))\n",
        "  b3 = tf.Variable(tf.random_normal([2]))\n",
        "  hypothesis = tf.sigmoid(tf.matmul(L2, W3) + b3)\n",
        "  \n",
        "  tf.summary.histogram('L2', L2)\n",
        "  tf.summary.histogram('weight3', W3)\n",
        "  tf.summary.histogram('bias3', b3)\n",
        "  tf.summary.histogram('hypothesis', hypothesis)\n",
        "  \n",
        "summary = tf.summary.merge_all()\n",
        "\n",
        "\n",
        "with tf.Session() as sess:\n",
        "  writer = tf.summary.FileWriter('/content/gdrive/My Drive/Tensor', sess.graph)\n",
        "  sess.run(summary)\n",
        "  writer.close()\n",
        "\n",
        "\n",
        "#sess=tf.Session()\n",
        "#sess.run(tf.global_variables_initializer())\n",
        "\n",
        "#writer = tf.summary.FileWriter('/content/gdrive/My Drive/Tensor', sess.graph)\n",
        "#writer.add_graph(sess.graph)\n",
        "\n"
      ],
      "execution_count": 0,
      "outputs": []
    }
  ]
}